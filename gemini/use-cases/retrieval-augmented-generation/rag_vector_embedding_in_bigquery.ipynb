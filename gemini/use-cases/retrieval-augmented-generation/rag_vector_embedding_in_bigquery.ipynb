{
  "cells": [
    {
      "cell_type": "code",
      "execution_count": null,
      "metadata": {
        "id": "0dFfn6IQRjwL"
      },
      "outputs": [],
      "source": [
        "# Copyright 2024 Google LLC\n",
        "#\n",
        "# Licensed under the Apache License, Version 2.0 (the \"License\");\n",
        "# you may not use this file except in compliance with the License.\n",
        "# You may obtain a copy of the License at\n",
        "#\n",
        "#     https://www.apache.org/licenses/LICENSE-2.0\n",
        "#\n",
        "# Unless required by applicable law or agreed to in writing, software\n",
        "# distributed under the License is distributed on an \"AS IS\" BASIS,\n",
        "# WITHOUT WARRANTIES OR CONDITIONS OF ANY KIND, either express or implied.\n",
        "# See the License for the specific language governing permissions and\n",
        "# limitations under the License."
      ]
    },
    {
      "cell_type": "markdown",
      "metadata": {
        "id": "6VKtsO2cPx0c"
      },
      "source": [
        "# Augment Gemeni Output with Vector Embedding from BigQuery\n",
        "\n",
        "---\n"
      ]
    },
    {
      "cell_type": "markdown",
      "metadata": {
        "id": "68HXNikaOXh8"
      },
      "source": [
        "<table align=\"left\">\n",
        "  <td style=\"text-align: center\">\n",
        "    <a href=\"https://colab.research.google.com/github/GoogleCloudPlatform/generative-ai/blob/main/gemini/use-cases/retrieval-augmented-generation/rag_vector_embedding_in_bigquery.ipynb\">\n",
        "      <img width=\"32px\" src=\"https://www.gstatic.com/pantheon/images/bigquery/welcome_page/colab-logo.svg\" alt=\"Google Colaboratory logo\"><br> Run in Colab\n",
        "    </a>\n",
        "  </td>\n",
        "  <td style=\"text-align: center\">\n",
        "    <a href=\"https://console.cloud.google.com/vertex-ai/colab/import/https:%2F%2Fraw.githubusercontent.com%2FGoogleCloudPlatform%2Fgenerative-ai%2Fmain%2Fgemini%2Fuse-cases%2Fretrieval-augmented-generation%2F%2Frag_vector_embedding_in_bigquery.ipynb\">\n",
        "      <img width=\"32px\" src=\"https://lh3.googleusercontent.com/JmcxdQi-qOpctIvWKgPtrzZdJJK-J3sWE1RsfjZNwshCFgE_9fULcNpuXYTilIR2hjwN\" alt=\"Google Cloud Colab Enterprise logo\"><br> Run in Colab Enterprise\n",
        "    </a>\n",
        "  </td>\n",
        "  <td style=\"text-align: center\">\n",
        "    <a href=\"https://github.com/GoogleCloudPlatform/generative-ai/blob/main/gemini/use-cases/retrieval-augmented-generation/rag_vector_embedding_in_bigquery.ipynb\">\n",
        "      <img width=\"32px\" src=\"https://upload.wikimedia.org/wikipedia/commons/9/91/Octicons-mark-github.svg\" alt=\"GitHub logo\"><br> View on GitHub\n",
        "    </a>\n",
        "  </td>\n",
        "  <td style=\"text-align: center\">\n",
        "    <a href=\"https://console.cloud.google.com/vertex-ai/workbench/deploy-notebook?download_url=https://raw.githubusercontent.com/GoogleCloudPlatform/generative-ai/main/gemini/use-cases/retrieval-augmented-generation/rag_vector_embedding_in_bigquery.ipynb\">\n",
        "      <img src=\"https://www.gstatic.com/images/branding/gcpiconscolors/vertexai/v1/32px.svg\" alt=\"Vertex AI logo\"><br> Open in Vertex AI Workbench\n",
        "    </a>\n",
        "  </td>    \n",
        "</table>"
      ]
    },
    {
      "cell_type": "markdown",
      "metadata": {
        "id": "0ExfeGcm9Iu5"
      },
      "source": [
        "| | | |\n",
        "|-|-|-|\n",
        "|Author(s) | [Logan Ramalingam](https://github.com/logan-google)"
      ]
    },
    {
      "cell_type": "markdown",
      "metadata": {
        "id": "Ja124yztPhGw"
      },
      "source": [
        "## Overview\n",
        "\n",
        "This notebook shows how to use BigQuery to create generate embedding from text in BigQuery table, store them within BigQuery Dataset and use the embeddings to augment the results from LLM in Vector Search.\n",
        "\n",
        "In this notebook, we create text embedding for publicly available abstracts from [patents data](https://console.cloud.google.com/marketplace/product/google_patents_public_datasets/google-patents-public-data) and use them in our LLM search. Google Patents Public Data, provided by IFI CLAIMS Patent Services, is a worldwide bibliographic and US full-text dataset of patent publications.\n",
        "\n",
        "\n",
        "```patents-public-data.google_patents_research.publications```\n",
        "\n",
        "This notebook references the steps mentioned in the [Perform semantic search and retrieval-augmented generation](https://cloud.google.com/bigquery/docs/vector-index-text-search-tutorial)\n"
      ]
    },
    {
      "cell_type": "markdown",
      "metadata": {
        "id": "Q1U3CtPWTGTO"
      },
      "source": [
        "## Required roles and permissions\n",
        "\n",
        "To create a connection, you need membership in the following Identity and Access Management (IAM) role:\n",
        "\n",
        "```roles/bigquery.connectionAdmin```\n",
        "\n",
        "To grant permissions to the connection's service account, you need the following permission:\n",
        "\n",
        "```resourcemanager.projects.setIamPolicy```\n",
        "\n",
        "The IAM permissions needed in this tutorial for the remaining BigQuery operations are included in the following two roles:\n",
        "\n",
        "\n",
        "*   BigQuery Data Editor (```roles/bigquery.dataEditor```) to create models, tables, and indexes.\n",
        "\n",
        "*   BigQuery User (```roles/bigquery.user```) to run BigQuery jobs.\n"
      ]
    },
    {
      "cell_type": "markdown",
      "metadata": {
        "id": "9UyVG5euTqOc"
      },
      "source": [
        "## Getting Started"
      ]
    },
    {
      "cell_type": "markdown",
      "metadata": {
        "id": "k9DON_o2Tvvx"
      },
      "source": [
        "### Install Vertex AI SDK and other required packages\n"
      ]
    },
    {
      "cell_type": "code",
      "execution_count": null,
      "metadata": {
        "id": "Oqy-9gVcO8KW"
      },
      "outputs": [
        {
          "name": "stdout",
          "output_type": "stream",
          "text": [
            "\u001b[2K     \u001b[90m━━━━━━━━━━━━━━━━━━━━━━━━━━━━━━━━━━━━━━━━\u001b[0m \u001b[32m4.3/4.3 MB\u001b[0m \u001b[31m15.9 MB/s\u001b[0m eta \u001b[36m0:00:00\u001b[0m\n",
            "\u001b[2K     \u001b[90m━━━━━━━━━━━━━━━━━━━━━━━━━━━━━━━━━━━━━━━━\u001b[0m \u001b[32m233.4/233.4 kB\u001b[0m \u001b[31m19.5 MB/s\u001b[0m eta \u001b[36m0:00:00\u001b[0m\n",
            "\u001b[2K     \u001b[90m━━━━━━━━━━━━━━━━━━━━━━━━━━━━━━━━━━━━━━━━\u001b[0m \u001b[32m58.1/58.1 kB\u001b[0m \u001b[31m5.4 MB/s\u001b[0m eta \u001b[36m0:00:00\u001b[0m\n",
            "\u001b[?25h\u001b[33m  WARNING: The script tb-gcp-uploader is installed in '/root/.local/bin' which is not on PATH.\n",
            "  Consider adding this directory to PATH or, if you prefer to suppress this warning, use --no-warn-script-location.\u001b[0m\u001b[33m\n",
            "\u001b[0m"
          ]
        }
      ],
      "source": [
        "%pip install --upgrade --user --quiet google-cloud-aiplatform google-cloud-bigquery lxml google-cloud-bigquery-connection"
      ]
    },
    {
      "cell_type": "markdown",
      "metadata": {
        "id": "8y3BBD2mT-Yj"
      },
      "source": [
        "### Restart runtime\n",
        "\n",
        "To use the newly installed packages in this Jupyter runtime, you must restart the runtime. You can do this by running the cell below, which restarts the current kernel.\n",
        "\n",
        "The restart might take a minute or longer. After its restarted, continue to the next step."
      ]
    },
    {
      "cell_type": "code",
      "execution_count": null,
      "metadata": {
        "id": "ZHuV1OBCUC7e"
      },
      "outputs": [
        {
          "data": {
            "text/plain": [
              "{'status': 'ok', 'restart': True}"
            ]
          },
          "execution_count": 2,
          "metadata": {},
          "output_type": "execute_result"
        }
      ],
      "source": [
        "import sys\n",
        "\n",
        "if \"google.colab\" in sys.modules:\n",
        "    import IPython\n",
        "\n",
        "    app = IPython.Application.instance()\n",
        "    app.kernel.do_shutdown(True)"
      ]
    },
    {
      "cell_type": "markdown",
      "metadata": {
        "id": "obVlQPPTT_-G"
      },
      "source": [
        "<div class=\"alert alert-block alert-warning\">\n",
        "<b>⚠️ The kernel is going to restart. Please wait until it is finished before continuing to the next step. ⚠️</b>\n",
        "</div>"
      ]
    },
    {
      "cell_type": "markdown",
      "metadata": {
        "id": "gtpBwMszUFuj"
      },
      "source": [
        "### Authenticate your notebook environment (Colab only)\n",
        "\n",
        "If you are running this notebook on Google Colab, run the cell below to authenticate your environment."
      ]
    },
    {
      "cell_type": "code",
      "execution_count": null,
      "metadata": {
        "id": "4FnXQw5HUFd_"
      },
      "outputs": [],
      "source": [
        "import sys\n",
        "\n",
        "if \"google.colab\" in sys.modules:\n",
        "    from google.colab import auth\n",
        "\n",
        "    auth.authenticate_user()"
      ]
    },
    {
      "cell_type": "markdown",
      "metadata": {
        "id": "BDAU3-1SUMwM"
      },
      "source": [
        "## Set Google Cloud project information and initialize BigQuery Connect\n",
        "\n",
        "Learn more about [setting up a project and a development environment](https://cloud.google.com/vertex-ai/docs/start/cloud-environment)."
      ]
    },
    {
      "cell_type": "code",
      "execution_count": null,
      "metadata": {
        "id": "CBTVwIiHO_NB"
      },
      "outputs": [],
      "source": [
        "# GCP Project ID\n",
        "PROJECT_ID = \"your-project-id\"  # @param {type:\"string\"}\n",
        "\n",
        "# BigQuery Dataset for storing embedding and model\n",
        "DATASET_ID = \"bq_vector_embedding\"  # @param {type:\"string\"}\n",
        "\n",
        "# BigQuery Region\n",
        "REGION = \"US\"  # @param {type: \"string\"}\n",
        "\n",
        "# BigQuery Connection name\n",
        "CONN_NAME = \"bqml_llm_conn\"\n",
        "\n",
        "# Embedding Model name\n",
        "EMBEDDING_MODEL_ID = \"llm_gecko\"  # @param {type:\"string\"}\n",
        "\n",
        "# Embedding Table name in BigQuery\n",
        "EMBEDDING_TABLE_ID = \"embeddings\"  # @param {type:\"string\"}\n",
        "\n",
        "# LLM Model name\n",
        "LLM_MODEL_ID = \"llm_gemini\"  # @param {type:\"string\"}\n",
        "\n",
        "# LLM Model to use (Use Gemini Pro)\n",
        "ENDPOINT_TYPE = \"gemini-pro\"  # @param {type:\"string\"}"
      ]
    },
    {
      "cell_type": "code",
      "execution_count": null,
      "metadata": {
        "id": "2SUO-szePFC_"
      },
      "outputs": [
        {
          "name": "stdout",
          "output_type": "stream",
          "text": [
            "Updated property [core/project].\n"
          ]
        }
      ],
      "source": [
        "# Set the project id\n",
        "! gcloud config set project {PROJECT_ID}"
      ]
    },
    {
      "cell_type": "markdown",
      "metadata": {
        "id": "X3YexMilEk7A"
      },
      "source": [
        "## Import libraries\n",
        "\n",
        "Let's start by importing the libraries that we will need for this tutorial"
      ]
    },
    {
      "cell_type": "code",
      "execution_count": null,
      "metadata": {
        "id": "khvtJTNwPLQB"
      },
      "outputs": [],
      "source": [
        "# enable data_table format\n",
        "from google.colab import data_table\n",
        "\n",
        "data_table.enable_dataframe_formatter()\n",
        "from google.cloud import bigquery\n",
        "from google.cloud import bigquery_connection_v1 as bq_connection\n",
        "from google.cloud.exceptions import NotFound"
      ]
    },
    {
      "cell_type": "markdown",
      "metadata": {
        "id": "J4JHJsIgWAYY"
      },
      "source": [
        "## Setup BigQuery Environment"
      ]
    },
    {
      "cell_type": "markdown",
      "metadata": {
        "id": "Sd-CU5BtvzYI"
      },
      "source": [
        "### Initialize Google BigQuery Client"
      ]
    },
    {
      "cell_type": "code",
      "execution_count": null,
      "metadata": {
        "id": "aXveDrBtvyr-"
      },
      "outputs": [],
      "source": [
        "client = bigquery.Client(project=PROJECT_ID)"
      ]
    },
    {
      "cell_type": "markdown",
      "metadata": {
        "id": "AFSqGN9JWK25"
      },
      "source": [
        "### Wrapper to use BigQuery client to run query and return result"
      ]
    },
    {
      "cell_type": "code",
      "execution_count": null,
      "metadata": {
        "id": "6hYtolHcPOgz"
      },
      "outputs": [],
      "source": [
        "def run_bq_query(sql: str):\n",
        "    \"\"\"\n",
        "    Input: SQL query, as a string, to execute in BigQuery\n",
        "    Returns the query results or error, if any\n",
        "    \"\"\"\n",
        "    try:\n",
        "        query_job = client.query(sql)\n",
        "        result = query_job.result()\n",
        "        print(f\"JOB ID: {query_job.job_id} STATUS: {query_job.state}\")\n",
        "        return result\n",
        "\n",
        "    except Exception as e:\n",
        "        raise Exception(str(e))"
      ]
    },
    {
      "cell_type": "markdown",
      "metadata": {
        "id": "jem8DhWWMx0e"
      },
      "source": [
        "### Create BigQuery Dataset to the ML Models"
      ]
    },
    {
      "cell_type": "code",
      "execution_count": null,
      "metadata": {
        "id": "Ew-5kjpJMw00"
      },
      "outputs": [
        {
          "name": "stdout",
          "output_type": "stream",
          "text": [
            "Dataset logan-playground.bq_vector_embedding already exists\n"
          ]
        }
      ],
      "source": [
        "# Set dataset_id to the ID of the dataset to create.\n",
        "dataset_id = \"{}.{}\".format(PROJECT_ID, DATASET_ID)\n",
        "\n",
        "# Construct a full Dataset object to send to the API.\n",
        "dataset = bigquery.Dataset(dataset_id)\n",
        "\n",
        "# Specify the geographic location where the dataset should reside.\n",
        "dataset.location = \"US\"\n",
        "\n",
        "# Send the dataset to the API for creation, with an explicit timeout.\n",
        "# Raises google.api_core.exceptions.Conflict if the Dataset already\n",
        "# exists within the project.\n",
        "try:\n",
        "    client.get_dataset(dataset_id)  # Make an API request.\n",
        "    print(\"Dataset {} already exists\".format(dataset_id))\n",
        "except NotFound:\n",
        "    dataset = client.create_dataset(dataset, timeout=30)  # Make an API request.\n",
        "    print(\"Created dataset {}.{}\".format(client.project, dataset.dataset_id))"
      ]
    },
    {
      "cell_type": "markdown",
      "metadata": {
        "id": "e0qek5a1W2Pl"
      },
      "source": [
        "### Create BigQuery Cloud resource connection\n",
        "\n",
        "You will need to create a [Cloud resource connection](https://cloud.google.com/bigquery/docs/create-cloud-resource-connection) to enable BigQuery to interact with Vertex AI services:"
      ]
    },
    {
      "cell_type": "code",
      "execution_count": null,
      "metadata": {
        "id": "AYZb179IPQG6"
      },
      "outputs": [
        {
          "name": "stdout",
          "output_type": "stream",
          "text": [
            "serviceAccount:bqcx-843397016286-ims6@gcp-sa-bigquery-condel.iam.gserviceaccount.com\n"
          ]
        }
      ],
      "source": [
        "conn_client = bq_connection.ConnectionServiceClient()\n",
        "new_conn_parent = f\"projects/{PROJECT_ID}/locations/{REGION}\"\n",
        "exists_conn_parent = f\"projects/{PROJECT_ID}/locations/{REGION}/connections/{CONN_NAME}\"\n",
        "cloud_resource_properties = bq_connection.CloudResourceProperties({})\n",
        "\n",
        "# Try to use an existing connection if one already exists. If not, create a new one.\n",
        "try:\n",
        "    request = conn_client.get_connection(\n",
        "        request=bq_connection.GetConnectionRequest(name=exists_conn_parent)\n",
        "    )\n",
        "    CONN_SERVICE_ACCOUNT = f\"serviceAccount:{request.cloud_resource.service_account_id}\"\n",
        "except Exception:\n",
        "    connection = bq_connection.types.Connection(\n",
        "        {\"friendly_name\": CONN_NAME, \"cloud_resource\": cloud_resource_properties}\n",
        "    )\n",
        "    request = bq_connection.CreateConnectionRequest(\n",
        "        {\n",
        "            \"parent\": new_conn_parent,\n",
        "            \"connection_id\": CONN_NAME,\n",
        "            \"connection\": connection,\n",
        "        }\n",
        "    )\n",
        "    response = conn_client.create_connection(request)\n",
        "    CONN_SERVICE_ACCOUNT = (\n",
        "        f\"serviceAccount:{response.cloud_resource.service_account_id}\"\n",
        "    )\n",
        "print(CONN_SERVICE_ACCOUNT)"
      ]
    },
    {
      "cell_type": "markdown",
      "metadata": {
        "id": "jieSbg0jXAUK"
      },
      "source": [
        "### Set permissions for Service Account\n",
        "The resource connection service account requires certain project-level permissions which are outlined in the <a href=\"https://cloud.google.com/bigquery/docs/bigquery-ml-remote-model-tutorial#set_up_access\" target=\"_blank\">Vertex AI function documentation</a>.\n",
        "\n",
        "<br>\n",
        "\n",
        "**Note:** If you are using Vertex AI Workbench, the service account used by Vertex AI may not have sufficient permissions to add IAM policy bindings.\n",
        "\n",
        "The [IAM Grant Access](https://cloud.google.com/iam/docs/granting-changing-revoking-access#grant-single-role) page gives instructions on how these policy bindings can be added using Cloud Shell."
      ]
    },
    {
      "cell_type": "code",
      "execution_count": null,
      "metadata": {
        "id": "Q5aNt3ZAPSJI"
      },
      "outputs": [],
      "source": [
        "import time\n",
        "\n",
        "!gcloud projects add-iam-policy-binding {PROJECT_ID} --condition=None --no-user-output-enabled --member={CONN_SERVICE_ACCOUNT} --role='roles/serviceusage.serviceUsageConsumer'\n",
        "!gcloud projects add-iam-policy-binding {PROJECT_ID} --condition=None --no-user-output-enabled --member={CONN_SERVICE_ACCOUNT} --role='roles/bigquery.connectionUser'\n",
        "!gcloud projects add-iam-policy-binding {PROJECT_ID} --condition=None --no-user-output-enabled --member={CONN_SERVICE_ACCOUNT} --role='roles/aiplatform.user'\n",
        "!gcloud services enable bigqueryconnection.googleapis.com\n",
        "# wait 45 seconds, give IAM updates time to propogate, otherwise, following cells will fail\n",
        "time.sleep(60)"
      ]
    },
    {
      "cell_type": "markdown",
      "metadata": {
        "id": "LUe5waT9XS0l"
      },
      "source": [
        "# Configure Vertex AI EMBEDDINGS Model in BigQuery"
      ]
    },
    {
      "cell_type": "markdown",
      "metadata": {
        "id": "__1U_CJkYTNS"
      },
      "source": [
        "## Create the remote model for text embedding generation\n",
        "Create a remote model that represents a hosted Vertex AI text embedding generation model.\n",
        "\n",
        "The query takes several seconds to complete, after which the model EMBEDDING_MODEL_ID appears in the DATASET_ID in the Explorer pane.\n"
      ]
    },
    {
      "cell_type": "code",
      "execution_count": null,
      "metadata": {
        "id": "rOuKE6z9GPIJ"
      },
      "outputs": [
        {
          "name": "stdout",
          "output_type": "stream",
          "text": [
            "JOB ID: c3cd6f6c-a960-4d50-9554-8ac99c7254d3 STATUS: DONE\n"
          ]
        }
      ],
      "source": [
        "sql = f\"\"\"CREATE OR REPLACE MODEL\n",
        "            `{PROJECT_ID}.{DATASET_ID}.{EMBEDDING_MODEL_ID}`\n",
        "          REMOTE WITH CONNECTION\n",
        "            `{PROJECT_ID}.{REGION}.{CONN_NAME}`\n",
        "          OPTIONS (ENDPOINT = 'textembedding-gecko@002');\"\"\"\n",
        "result = run_bq_query(sql)"
      ]
    },
    {
      "cell_type": "markdown",
      "metadata": {
        "id": "Baocs6-vYzBf"
      },
      "source": [
        "## Generate text embeddings\n",
        "Generate text embeddings from patent abstracts using the ML.GENERATE_EMBEDDING function, and then write them to a BigQuery table so that they can be searched.\n",
        "\n",
        "**Note: Query might take upto 10mins to run.**\n"
      ]
    },
    {
      "cell_type": "code",
      "execution_count": null,
      "metadata": {
        "id": "i6_BDJn9GRAi"
      },
      "outputs": [
        {
          "name": "stdout",
          "output_type": "stream",
          "text": [
            "JOB ID: c72f2e54-5927-476c-8947-15f407a588aa STATUS: DONE\n"
          ]
        }
      ],
      "source": [
        "sql = f\"\"\"\n",
        "      CREATE OR REPLACE TABLE `{PROJECT_ID}.{DATASET_ID}.{EMBEDDING_TABLE_ID}` AS\n",
        "      SELECT * FROM ML.GENERATE_TEXT_EMBEDDING(\n",
        "        MODEL `{PROJECT_ID}.{DATASET_ID}.{EMBEDDING_MODEL_ID}`,\n",
        "        (\n",
        "          SELECT *, abstract AS content\n",
        "          FROM `patents-public-data.google_patents_research.publications`\n",
        "          WHERE LENGTH(abstract) > 0 AND LENGTH(title) > 0 AND country = 'Singapore'\n",
        "        )\n",
        "      )\n",
        "      WHERE ARRAY_LENGTH(text_embedding) > 0;\n",
        "      \"\"\"\n",
        "result = run_bq_query(sql)"
      ]
    },
    {
      "cell_type": "markdown",
      "metadata": {
        "id": "725vcaYAY_KA"
      },
      "source": [
        "## Create Vector index\n",
        "\n",
        "A vector index is a data structure designed to let the VECTOR_SEARCH function perform a more efficient vector search of embeddings. When VECTOR_SEARCH is able to use a vector index, the function uses the Approximate Nearest Neighbor search technique to help improve search performance, with the trade-off of reducing recall and thus returning more approximate results.\n",
        "\n",
        "**NOTE: Query might take upto 5mins to run.**\n"
      ]
    },
    {
      "cell_type": "code",
      "execution_count": null,
      "metadata": {
        "id": "u_9ndU0BPbPv"
      },
      "outputs": [
        {
          "name": "stdout",
          "output_type": "stream",
          "text": [
            "JOB ID: bb9d0084-addf-4da3-a39e-b45f0e88421c STATUS: DONE\n"
          ]
        }
      ],
      "source": [
        "sql = f\"\"\"CREATE OR REPLACE VECTOR INDEX my_index ON `{PROJECT_ID}.{DATASET_ID}.embeddings`(text_embedding) OPTIONS(index_type = 'IVF',\n",
        "distance_type = 'COSINE',   ivf_options = '{{\"num_lists\":500}}')\"\"\"\n",
        "result = run_bq_query(sql)"
      ]
    },
    {
      "cell_type": "markdown",
      "metadata": {
        "id": "B_JRpw5uZb79"
      },
      "source": [
        "### Verify vector index creation\n",
        "\n",
        "The vector index is populated asynchronously. You can check whether the index is ready to be used by querying the INFORMATION_SCHEMA.VECTOR_INDEXES view and verifying that the coverage_percentage column value is greater than 0 and the last_refresh_time column value isn't NULL."
      ]
    },
    {
      "cell_type": "code",
      "execution_count": null,
      "metadata": {
        "id": "PWe97Sk5PdSe"
      },
      "outputs": [
        {
          "data": {
            "application/vnd.jupyter.widget-view+json": {
              "model_id": "c8013df4f601418cab00d33771389870",
              "version_major": 2,
              "version_minor": 0
            },
            "text/plain": [
              "Query is running:   0%|          |"
            ]
          },
          "metadata": {},
          "output_type": "display_data"
        },
        {
          "data": {
            "application/vnd.jupyter.widget-view+json": {
              "model_id": "101185e0a5c447eeb0c2cb09b4dd778a",
              "version_major": 2,
              "version_minor": 0
            },
            "text/plain": [
              "Downloading:   0%|          |"
            ]
          },
          "metadata": {},
          "output_type": "display_data"
        },
        {
          "data": {
            "application/vnd.google.colaboratory.intrinsic+json": {
              "repr_error": "Out of range float values are not JSON compliant: nan",
              "type": "dataframe"
            },
            "application/vnd.google.colaboratory.module+javascript": "\n      import \"https://ssl.gstatic.com/colaboratory/data_table/881c4a0d49046431/data_table.js\";\n\n      const table = window.createDataTable({\n        data: [[{\n            'v': 0,\n            'f': \"0\",\n        },\n\"embeddings\",\n\"my_index\",\n\"ACTIVE\",\n{\n            'v': 100,\n            'f': \"100\",\n        },\n\"2024-04-01 21:10:14.472000+00:00\",\n{\n            'v': null,\n            'f': \"null\",\n        }]],\n        columns: [[\"number\", \"index\"], [\"string\", \"table_name\"], [\"string\", \"index_name\"], [\"string\", \"index_status\"], [\"number\", \"coverage_percentage\"], [\"string\", \"last_refresh_time\"], [\"number\", \"disable_reason\"]],\n        columnOptions: [{\"width\": \"1px\", \"className\": \"index_column\"}],\n        rowsPerPage: 25,\n        helpUrl: \"https://colab.research.google.com/notebooks/data_table.ipynb\",\n        suppressOutputScrolling: true,\n        minimumWidth: undefined,\n      });\n\n      function appendQuickchartButton(parentElement) {\n        let quickchartButtonContainerElement = document.createElement('div');\n        quickchartButtonContainerElement.innerHTML = `\n<div id=\"df-f0706349-5d27-47e2-b7d6-a602435c0ea3\">\n  <button class=\"colab-df-quickchart\" onclick=\"quickchart('df-f0706349-5d27-47e2-b7d6-a602435c0ea3')\"\n            title=\"Suggest charts\"\n            style=\"display:none;\">\n    \n<svg xmlns=\"http://www.w3.org/2000/svg\" height=\"24px\"viewBox=\"0 0 24 24\"\n     width=\"24px\">\n    <g>\n        <path d=\"M19 3H5c-1.1 0-2 .9-2 2v14c0 1.1.9 2 2 2h14c1.1 0 2-.9 2-2V5c0-1.1-.9-2-2-2zM9 17H7v-7h2v7zm4 0h-2V7h2v10zm4 0h-2v-4h2v4z\"/>\n    </g>\n</svg>\n  </button>\n  \n<style>\n  .colab-df-quickchart {\n      --bg-color: #E8F0FE;\n      --fill-color: #1967D2;\n      --hover-bg-color: #E2EBFA;\n      --hover-fill-color: #174EA6;\n      --disabled-fill-color: #AAA;\n      --disabled-bg-color: #DDD;\n  }\n\n  [theme=dark] .colab-df-quickchart {\n      --bg-color: #3B4455;\n      --fill-color: #D2E3FC;\n      --hover-bg-color: #434B5C;\n      --hover-fill-color: #FFFFFF;\n      --disabled-bg-color: #3B4455;\n      --disabled-fill-color: #666;\n  }\n\n  .colab-df-quickchart {\n    background-color: var(--bg-color);\n    border: none;\n    border-radius: 50%;\n    cursor: pointer;\n    display: none;\n    fill: var(--fill-color);\n    height: 32px;\n    padding: 0;\n    width: 32px;\n  }\n\n  .colab-df-quickchart:hover {\n    background-color: var(--hover-bg-color);\n    box-shadow: 0 1px 2px rgba(60, 64, 67, 0.3), 0 1px 3px 1px rgba(60, 64, 67, 0.15);\n    fill: var(--button-hover-fill-color);\n  }\n\n  .colab-df-quickchart-complete:disabled,\n  .colab-df-quickchart-complete:disabled:hover {\n    background-color: var(--disabled-bg-color);\n    fill: var(--disabled-fill-color);\n    box-shadow: none;\n  }\n\n  .colab-df-spinner {\n    border: 2px solid var(--fill-color);\n    border-color: transparent;\n    border-bottom-color: var(--fill-color);\n    animation:\n      spin 1s steps(1) infinite;\n  }\n\n  @keyframes spin {\n    0% {\n      border-color: transparent;\n      border-bottom-color: var(--fill-color);\n      border-left-color: var(--fill-color);\n    }\n    20% {\n      border-color: transparent;\n      border-left-color: var(--fill-color);\n      border-top-color: var(--fill-color);\n    }\n    30% {\n      border-color: transparent;\n      border-left-color: var(--fill-color);\n      border-top-color: var(--fill-color);\n      border-right-color: var(--fill-color);\n    }\n    40% {\n      border-color: transparent;\n      border-right-color: var(--fill-color);\n      border-top-color: var(--fill-color);\n    }\n    60% {\n      border-color: transparent;\n      border-right-color: var(--fill-color);\n    }\n    80% {\n      border-color: transparent;\n      border-right-color: var(--fill-color);\n      border-bottom-color: var(--fill-color);\n    }\n    90% {\n      border-color: transparent;\n      border-bottom-color: var(--fill-color);\n    }\n  }\n</style>\n\n  <script>\n    async function quickchart(key) {\n      const quickchartButtonEl =\n        document.querySelector('#' + key + ' button');\n      quickchartButtonEl.disabled = true;  // To prevent multiple clicks.\n      quickchartButtonEl.classList.add('colab-df-spinner');\n      try {\n        const charts = await google.colab.kernel.invokeFunction(\n            'suggestCharts', [key], {});\n      } catch (error) {\n        console.error('Error during call to suggestCharts:', error);\n      }\n      quickchartButtonEl.classList.remove('colab-df-spinner');\n      quickchartButtonEl.classList.add('colab-df-quickchart-complete');\n    }\n    (() => {\n      let quickchartButtonEl =\n        document.querySelector('#df-f0706349-5d27-47e2-b7d6-a602435c0ea3 button');\n      quickchartButtonEl.style.display =\n        google.colab.kernel.accessAllowed ? 'block' : 'none';\n    })();\n  </script>\n</div>`;\n        parentElement.appendChild(quickchartButtonContainerElement);\n      }\n\n      appendQuickchartButton(table);\n    ",
            "text/html": [
              "\n",
              "  <div id=\"df-6f93827c-acff-4a6c-8cc2-abb685aed1b0\" class=\"colab-df-container\">\n",
              "    <div>\n",
              "<style scoped>\n",
              "    .dataframe tbody tr th:only-of-type {\n",
              "        vertical-align: middle;\n",
              "    }\n",
              "\n",
              "    .dataframe tbody tr th {\n",
              "        vertical-align: top;\n",
              "    }\n",
              "\n",
              "    .dataframe thead th {\n",
              "        text-align: right;\n",
              "    }\n",
              "</style>\n",
              "<table border=\"1\" class=\"dataframe\">\n",
              "  <thead>\n",
              "    <tr style=\"text-align: right;\">\n",
              "      <th></th>\n",
              "      <th>table_name</th>\n",
              "      <th>index_name</th>\n",
              "      <th>index_status</th>\n",
              "      <th>coverage_percentage</th>\n",
              "      <th>last_refresh_time</th>\n",
              "      <th>disable_reason</th>\n",
              "    </tr>\n",
              "  </thead>\n",
              "  <tbody>\n",
              "    <tr>\n",
              "      <th>0</th>\n",
              "      <td>embeddings</td>\n",
              "      <td>my_index</td>\n",
              "      <td>ACTIVE</td>\n",
              "      <td>100</td>\n",
              "      <td>2024-04-01 21:10:14.472000+00:00</td>\n",
              "      <td>None</td>\n",
              "    </tr>\n",
              "  </tbody>\n",
              "</table>\n",
              "</div>\n",
              "    <div class=\"colab-df-buttons\">\n",
              "\n",
              "  <div class=\"colab-df-container\">\n",
              "    <button class=\"colab-df-convert\" onclick=\"convertToInteractive('df-6f93827c-acff-4a6c-8cc2-abb685aed1b0')\"\n",
              "            title=\"Convert this dataframe to an interactive table.\"\n",
              "            style=\"display:none;\">\n",
              "\n",
              "  <svg xmlns=\"http://www.w3.org/2000/svg\" height=\"24px\" viewBox=\"0 -960 960 960\">\n",
              "    <path d=\"M120-120v-720h720v720H120Zm60-500h600v-160H180v160Zm220 220h160v-160H400v160Zm0 220h160v-160H400v160ZM180-400h160v-160H180v160Zm440 0h160v-160H620v160ZM180-180h160v-160H180v160Zm440 0h160v-160H620v160Z\"/>\n",
              "  </svg>\n",
              "    </button>\n",
              "\n",
              "  <style>\n",
              "    .colab-df-container {\n",
              "      display:flex;\n",
              "      gap: 12px;\n",
              "    }\n",
              "\n",
              "    .colab-df-convert {\n",
              "      background-color: #E8F0FE;\n",
              "      border: none;\n",
              "      border-radius: 50%;\n",
              "      cursor: pointer;\n",
              "      display: none;\n",
              "      fill: #1967D2;\n",
              "      height: 32px;\n",
              "      padding: 0 0 0 0;\n",
              "      width: 32px;\n",
              "    }\n",
              "\n",
              "    .colab-df-convert:hover {\n",
              "      background-color: #E2EBFA;\n",
              "      box-shadow: 0px 1px 2px rgba(60, 64, 67, 0.3), 0px 1px 3px 1px rgba(60, 64, 67, 0.15);\n",
              "      fill: #174EA6;\n",
              "    }\n",
              "\n",
              "    .colab-df-buttons div {\n",
              "      margin-bottom: 4px;\n",
              "    }\n",
              "\n",
              "    [theme=dark] .colab-df-convert {\n",
              "      background-color: #3B4455;\n",
              "      fill: #D2E3FC;\n",
              "    }\n",
              "\n",
              "    [theme=dark] .colab-df-convert:hover {\n",
              "      background-color: #434B5C;\n",
              "      box-shadow: 0px 1px 3px 1px rgba(0, 0, 0, 0.15);\n",
              "      filter: drop-shadow(0px 1px 2px rgba(0, 0, 0, 0.3));\n",
              "      fill: #FFFFFF;\n",
              "    }\n",
              "  </style>\n",
              "\n",
              "    <script>\n",
              "      const buttonEl =\n",
              "        document.querySelector('#df-6f93827c-acff-4a6c-8cc2-abb685aed1b0 button.colab-df-convert');\n",
              "      buttonEl.style.display =\n",
              "        google.colab.kernel.accessAllowed ? 'block' : 'none';\n",
              "\n",
              "      async function convertToInteractive(key) {\n",
              "        const element = document.querySelector('#df-6f93827c-acff-4a6c-8cc2-abb685aed1b0');\n",
              "        const dataTable =\n",
              "          await google.colab.kernel.invokeFunction('convertToInteractive',\n",
              "                                                    [key], {});\n",
              "        if (!dataTable) return;\n",
              "\n",
              "        const docLinkHtml = 'Like what you see? Visit the ' +\n",
              "          '<a target=\"_blank\" href=https://colab.research.google.com/notebooks/data_table.ipynb>data table notebook</a>'\n",
              "          + ' to learn more about interactive tables.';\n",
              "        element.innerHTML = '';\n",
              "        dataTable['output_type'] = 'display_data';\n",
              "        await google.colab.output.renderOutput(dataTable, element);\n",
              "        const docLink = document.createElement('div');\n",
              "        docLink.innerHTML = docLinkHtml;\n",
              "        element.appendChild(docLink);\n",
              "      }\n",
              "    </script>\n",
              "  </div>\n",
              "\n",
              "\n",
              "    </div>\n",
              "  </div>\n"
            ],
            "text/plain": [
              "   table_name index_name index_status  coverage_percentage  \\\n",
              "0  embeddings   my_index       ACTIVE                  100   \n",
              "\n",
              "                 last_refresh_time disable_reason  \n",
              "0 2024-04-01 21:10:14.472000+00:00           None  "
            ]
          },
          "execution_count": 79,
          "metadata": {},
          "output_type": "execute_result"
        }
      ],
      "source": [
        "#Check vector index creation status, 'coverage_percentage' should be 100\n",
        "%%bigquery --project {PROJECT_ID}\n",
        "\n",
        "SELECT table_name, index_name, index_status, coverage_percentage, last_refresh_time, disable_reason\n",
        "FROM `bq_vector_embedding.INFORMATION_SCHEMA.VECTOR_INDEXES`\n",
        "WHERE table_name = 'embeddings'"
      ]
    },
    {
      "cell_type": "markdown",
      "metadata": {
        "id": "uAcxPdClaRMQ"
      },
      "source": [
        "## Perform a text similarity search using the vector index\n",
        "\n",
        "Use the VECTOR_SEARCH function to search for the top 5 relevant patents that match embeddings generated from a text query. The model you use to generate the embeddings in this query must be the same as the one you use to generate the embeddings in the table you are comparing against, otherwise the search results won't be accurate."
      ]
    },
    {
      "cell_type": "code",
      "execution_count": null,
      "metadata": {
        "id": "6-5r-0q7Pern"
      },
      "outputs": [
        {
          "name": "stdout",
          "output_type": "stream",
          "text": [
            "JOB ID: 17562073-0f78-4b72-95b1-2c7402f868a4 STATUS: DONE\n",
            "                         query  \\\n",
            "0  improving password security   \n",
            "1  improving password security   \n",
            "2  improving password security   \n",
            "3  improving password security   \n",
            "4  improving password security   \n",
            "\n",
            "                                             content  distance  \n",
            "0  Methods for improving security in data storage...  0.456121  \n",
            "1  PASSSWORD MANAGEMENT SYSTEM AND PROCESS There ...  0.473152  \n",
            "2  METHOD AND APPARATUS FOR UNLOCKING USER INTERF...  0.488237  \n",
            "3  An active new password entry dialog provides a...  0.488507  \n",
            "4  An electronic device includes password protect...  0.488999  \n"
          ]
        }
      ],
      "source": [
        "resolvedsql = f\"\"\"\n",
        "  SELECT\n",
        "    query.query,\n",
        "    base.content,\n",
        "    distance\n",
        "  FROM\n",
        "    VECTOR_SEARCH( TABLE `{PROJECT_ID}.{DATASET_ID}.{EMBEDDING_TABLE_ID}`,\n",
        "      'text_embedding',\n",
        "      (\n",
        "      SELECT\n",
        "        text_embedding,\n",
        "        content AS query\n",
        "      FROM\n",
        "        ML.GENERATE_TEXT_EMBEDDING( MODEL `{PROJECT_ID}.{DATASET_ID}.{EMBEDDING_MODEL_ID}`,\n",
        "          (\n",
        "          SELECT 'improving password security' AS content))\n",
        "      ),\n",
        "      top_k => 5,\n",
        "      OPTIONS => '{{\"fraction_lists_to_search\":0.01}}');\"\"\"\n",
        "\n",
        "result = run_bq_query(sql).to_dataframe()\n",
        "print(result)"
      ]
    },
    {
      "cell_type": "markdown",
      "metadata": {
        "id": "CQCg_qDzbGV3"
      },
      "source": [
        "# Generate text using embeddings"
      ]
    },
    {
      "cell_type": "markdown",
      "metadata": {
        "id": "0A4OZzdRbaDK"
      },
      "source": [
        "## Create the remote model for text generation\n",
        "\n",
        "Create a remote model that represents a hosted Gemeni Model\n"
      ]
    },
    {
      "cell_type": "code",
      "execution_count": null,
      "metadata": {
        "id": "fWrK3FH9H99l"
      },
      "outputs": [
        {
          "name": "stdout",
          "output_type": "stream",
          "text": [
            "\n",
            "      CREATE OR REPLACE MODEL\n",
            "        `logan-playground.bq_vector_embedding.llm_gemini`\n",
            "        REMOTE WITH CONNECTION\n",
            "          `logan-playground.US.bqml_llm_conn`\n",
            "        OPTIONS (ENDPOINT = 'gemini-pro');\n",
            "      \n",
            "JOB ID: 81ebf7b5-f293-43fb-8d6e-1b1cdafdd80b STATUS: DONE\n"
          ]
        }
      ],
      "source": [
        "sql = f\"\"\"\n",
        "      CREATE OR REPLACE MODEL\n",
        "        `{PROJECT_ID}.{DATASET_ID}.{LLM_MODEL_ID}`\n",
        "        REMOTE WITH CONNECTION\n",
        "          `{PROJECT_ID}.{REGION}.{CONN_NAME}`\n",
        "        OPTIONS (ENDPOINT = '{ENDPOINT_TYPE}');\n",
        "      \"\"\"\n",
        "result = run_bq_query(sql)"
      ]
    },
    {
      "cell_type": "markdown",
      "metadata": {
        "id": "dziHo0LQbrHv"
      },
      "source": [
        "## Generate text augmented by vector search results\n",
        "\n",
        "Feed the search results as prompts to generate text with the ML.GENERATE_TEXT function\n"
      ]
    },
    {
      "cell_type": "code",
      "execution_count": null,
      "metadata": {
        "id": "uqH_qvy_cKot"
      },
      "outputs": [
        {
          "name": "stdout",
          "output_type": "stream",
          "text": [
            "**Project Idea 1:**\n",
            "\n",
            "**Patent Title:** Data Storage Device Security Method and Apparatus\n",
            "**URL:** https://patents.google.com/patent/US20060190331A1/en\n",
            "\n",
            "**Project Description:**\n",
            "Develop a password management system that utilizes a synchronization method to encrypt and change passwords at each transmission from host to data storage device. This enhances password security by preventing unauthorized access to stored data.\n",
            "\n",
            "**Project Idea 2:**\n",
            "\n",
            "**Patent Title:** Passsword Management System and Process\n",
            "**URL:** https://patents.google.com/patent/US20060287933A1/en\n",
            "\n",
            "**Project Description:**\n",
            "Create a password management system that updates passwords based on functional account data and scheduling criteria. This allows for automated password updates, reducing the risk of password compromise due to outdated credentials.\n",
            "\n",
            "**Project Idea 3:**\n",
            "\n",
            "**Patent Title:** Method and Apparatus for Unlocking User Interface\n",
            "**URL:** https://patents.google.com/patent/CN105343265A/en\n",
            "\n",
            "**Project Description:**\n",
            "Develop a user interface unlocking mechanism that selects an unlock password from multiple preset passwords. This provides an additional layer of security by requiring users to remember multiple passwords, making it more difficult for attackers to gain access.\n",
            "\n",
            "**Project Idea 4:**\n",
            "\n",
            "**Patent Title:** Active New Password Entry Dialog with Compact Visual Indication of Adherence to Password Policy\n",
            "**URL:** https://patents.google.com/patent/US20100298933A1/en\n",
            "\n",
            "**Project Description:**\n",
            "Create a password entry dialog that provides real-time visual feedback on password strength and adherence to password policies. This helps users create strong passwords that meet security requirements, reducing the risk of password compromise.\n",
            "\n",
            "**Project Idea 5:**\n",
            "\n",
            "**Patent Title:** User-defined Passwords Having Associated Unique Version Data to Assist User Recall of the Password\n",
            "**URL:** https://patents.google.com/patent/US20110294903A1/en\n",
            "\n",
            "**Project Description:**\n",
            "Develop a password management system that stores user-defined passwords with unique version data. This version data can be used to assist users in recalling their passwords, reducing the risk of password resets due to forgotten credentials.\n"
          ]
        }
      ],
      "source": [
        "sql = f\"\"\"SELECT ml_generate_text_llm_result AS generated, prompt\n",
        "FROM ML.GENERATE_TEXT(\n",
        "  MODEL `{PROJECT_ID}.{DATASET_ID}.{LLM_MODEL_ID}`,\n",
        "  (\n",
        "    SELECT CONCAT(\n",
        "      'Propose some project ideas to improve user password security using the context below. Add the patent title and url to each idea: ',\n",
        "      STRING_AGG(\n",
        "        FORMAT(\"patent title: %s, patent abstract: %s\", base.title, base.abstract))\n",
        "      ) AS prompt,\n",
        "    FROM VECTOR_SEARCH(\n",
        "      TABLE `{PROJECT_ID}.{DATASET_ID}.{EMBEDDING_TABLE_ID}`, 'text_embedding',\n",
        "      (\n",
        "        SELECT ml_generate_embedding_result, content AS query\n",
        "        FROM ML.GENERATE_EMBEDDING(\n",
        "          MODEL `{PROJECT_ID}.{DATASET_ID}.{EMBEDDING_MODEL_ID}`,\n",
        "         (SELECT 'improving password security' AS content)\n",
        "        )\n",
        "      ),\n",
        "    top_k => 5, options => '{{\"fraction_lists_to_search\": 0.01}}')\n",
        "  ),\n",
        "  STRUCT(600 AS max_output_tokens, TRUE AS flatten_json_output));\"\"\"\n",
        "\n",
        "query_job = client.query(sql)\n",
        "rows = query_job.result()\n",
        "\n",
        "for row in rows:\n",
        "    print(row[0])"
      ]
    },
    {
      "cell_type": "markdown",
      "metadata": {
        "id": "qyVndOMsw7CU"
      },
      "source": [
        "## Cleaning up\n",
        "\n",
        "Clean up resources created in this notebook. If no resources are created in this notebook, remove this section"
      ]
    },
    {
      "cell_type": "code",
      "execution_count": null,
      "metadata": {
        "id": "UZOryN4Nw6vW"
      },
      "outputs": [],
      "source": [
        "# Delete Vector Index\n",
        "sql = f\"\"\"DROP VECTOR INDEX my_index ON `{PROJECT_ID}.{DATASET_ID}.{EMBEDDING_TABLE_ID}`\"\"\"\n",
        "result = run_bq_query(sql)\n",
        "\n",
        "# Delete Gemeni Model\n",
        "sql = f\"\"\"DROP MODEL `{PROJECT_ID}.{DATASET_ID}.{LLM_MODEL_ID}`\"\"\"\n",
        "result = run_bq_query(sql)\n",
        "\n",
        "# Delete Embedding Model\n",
        "sql = f\"\"\"DROP MODEL `{PROJECT_ID}.{DATASET_ID}.{EMBEDDING_MODEL_ID}`\"\"\"\n",
        "result = run_bq_query(sql)\n",
        "\n",
        "# Delete Embedding Table\n",
        "sql = f\"\"\"DROP TABLE `{PROJECT_ID}.{DATASET_ID}.{EMBEDDING_TABLE_ID}`\"\"\"\n",
        "result = run_bq_query(sql)\n",
        "\n",
        "# Delete BigQuery Connection\n",
        "request = bq_connection.DeleteConnectionRequest({\"name\": exists_conn_parent})\n",
        "response = conn_client.delete_connection(request)\n",
        "\n",
        "# Delete Dataset\n",
        "client.delete_dataset(dataset, delete_contents=True, not_found_ok=True)\n",
        "\n",
        "# Close BigQuery Connection\n",
        "client.close()"
      ]
    }
  ],
  "metadata": {
    "colab": {
      "name": "rag_vector_embedding_in_bigquery.ipynb",
      "toc_visible": true
    },
    "kernelspec": {
      "display_name": "Python 3",
      "name": "python3"
    }
  },
  "nbformat": 4,
  "nbformat_minor": 0
}
